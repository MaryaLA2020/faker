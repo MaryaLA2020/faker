{
 "cells": [
  {
   "cell_type": "markdown",
   "id": "25f2a94a",
   "metadata": {},
   "source": [
    "## Генерация данных с библиотекой Faker"
   ]
  },
  {
   "cell_type": "markdown",
   "id": "851e0567",
   "metadata": {},
   "source": [
    "Устанавливаем библиотеку:"
   ]
  },
  {
   "cell_type": "code",
   "execution_count": 19,
   "id": "12446ac2",
   "metadata": {},
   "outputs": [
    {
     "name": "stdout",
     "output_type": "stream",
     "text": [
      "Requirement already satisfied: faker in c:\\users\\lebed\\anaconda3\\lib\\site-packages (33.0.0)\n",
      "Requirement already satisfied: python-dateutil>=2.4 in c:\\users\\lebed\\anaconda3\\lib\\site-packages (from faker) (2.8.2)\n",
      "Requirement already satisfied: typing-extensions in c:\\users\\lebed\\anaconda3\\lib\\site-packages (from faker) (4.12.2)\n",
      "Requirement already satisfied: six>=1.5 in c:\\users\\lebed\\anaconda3\\lib\\site-packages (from python-dateutil>=2.4->faker) (1.16.0)\n",
      "Note: you may need to restart the kernel to use updated packages.\n"
     ]
    }
   ],
   "source": [
    "pip install faker"
   ]
  },
  {
   "cell_type": "code",
   "execution_count": 20,
   "id": "f0597407",
   "metadata": {},
   "outputs": [],
   "source": [
    "# Так как мы хотим сгенерировать датасет, то в этом деле нам ещё панадобится pandas\n",
    "import pandas as pd\n",
    "from faker import Faker\n",
    "# defaultdict это объект словаря в python, для которого можно задать тип его значений по умолчанию\n",
    "from collections import defaultdict"
   ]
  },
  {
   "cell_type": "markdown",
   "id": "6691ce7d",
   "metadata": {},
   "source": [
    "Попробуем сгенерить таблицу в 1000 строк с данными о различных тороговых точках"
   ]
  },
  {
   "cell_type": "code",
   "execution_count": 21,
   "id": "f6c85c97",
   "metadata": {},
   "outputs": [],
   "source": [
    "fake = Faker() # Создаём объект fake для генерации данных\n",
    "point_data = defaultdict(list) # подготавливаем словарь со списками по умолчанию для сбора таблицы"
   ]
  },
  {
   "cell_type": "markdown",
   "id": "148ed920",
   "metadata": {},
   "source": [
    "### Примеры генерации, используемые в этом кейсе"
   ]
  },
  {
   "cell_type": "code",
   "execution_count": 22,
   "id": "8a213382",
   "metadata": {},
   "outputs": [
    {
     "data": {
      "text/plain": [
       "'Moore PLC'"
      ]
     },
     "execution_count": 22,
     "metadata": {},
     "output_type": "execute_result"
    }
   ],
   "source": [
    "fake.company() # Генерим название компании"
   ]
  },
  {
   "cell_type": "code",
   "execution_count": 23,
   "id": "276d0756",
   "metadata": {},
   "outputs": [
    {
     "data": {
      "text/plain": [
       "datetime.date(2024, 10, 23)"
      ]
     },
     "execution_count": 23,
     "metadata": {},
     "output_type": "execute_result"
    }
   ],
   "source": [
    "fake.past_date() # Генерим дату из прошлого"
   ]
  },
  {
   "cell_type": "code",
   "execution_count": 24,
   "id": "f1d44bca",
   "metadata": {},
   "outputs": [
    {
     "data": {
      "text/plain": [
       "('40.64621', '-73.97069', 'Kensington', 'US', 'America/New_York')"
      ]
     },
     "execution_count": 24,
     "metadata": {},
     "output_type": "execute_result"
    }
   ],
   "source": [
    "fake.local_latlng() # Генерим геоточку в виде кортежа"
   ]
  },
  {
   "cell_type": "markdown",
   "id": "a0755081",
   "metadata": {},
   "source": [
    "Каждый из методов faker, использованных здесь можно найти в документации: https://faker.readthedocs.io/en/master/"
   ]
  },
  {
   "cell_type": "markdown",
   "id": "300d2b26",
   "metadata": {},
   "source": [
    "### Генерим датасет"
   ]
  },
  {
   "cell_type": "code",
   "execution_count": 25,
   "id": "a7249fe9",
   "metadata": {},
   "outputs": [],
   "source": [
    "for i in range(1000):\n",
    "    point_data[\"id\"].append(i)\n",
    "    point_data['point_name'].append(fake.company())\n",
    "    point_data['date_open'].append(fake.past_date())\n",
    "    geo = fake.local_latlng()\n",
    "    point_data['latitude'].append(geo[0])\n",
    "    point_data['longitude'].append(geo[1])\n",
    "    point_data['city'].append(geo[-1].split('/')[1])"
   ]
  },
  {
   "cell_type": "code",
   "execution_count": 26,
   "id": "e0d85b88",
   "metadata": {},
   "outputs": [
    {
     "data": {
      "text/html": [
       "<div>\n",
       "<style scoped>\n",
       "    .dataframe tbody tr th:only-of-type {\n",
       "        vertical-align: middle;\n",
       "    }\n",
       "\n",
       "    .dataframe tbody tr th {\n",
       "        vertical-align: top;\n",
       "    }\n",
       "\n",
       "    .dataframe thead th {\n",
       "        text-align: right;\n",
       "    }\n",
       "</style>\n",
       "<table border=\"1\" class=\"dataframe\">\n",
       "  <thead>\n",
       "    <tr style=\"text-align: right;\">\n",
       "      <th></th>\n",
       "      <th>id</th>\n",
       "      <th>point_name</th>\n",
       "      <th>date_open</th>\n",
       "      <th>latitude</th>\n",
       "      <th>longitude</th>\n",
       "      <th>city</th>\n",
       "    </tr>\n",
       "  </thead>\n",
       "  <tbody>\n",
       "    <tr>\n",
       "      <th>0</th>\n",
       "      <td>0</td>\n",
       "      <td>Reilly-Jenkins</td>\n",
       "      <td>2024-11-17</td>\n",
       "      <td>31.76212</td>\n",
       "      <td>-95.63079</td>\n",
       "      <td>Chicago</td>\n",
       "    </tr>\n",
       "    <tr>\n",
       "      <th>1</th>\n",
       "      <td>1</td>\n",
       "      <td>Gibson-Smith</td>\n",
       "      <td>2024-10-25</td>\n",
       "      <td>41.55815</td>\n",
       "      <td>-73.0515</td>\n",
       "      <td>New_York</td>\n",
       "    </tr>\n",
       "    <tr>\n",
       "      <th>2</th>\n",
       "      <td>2</td>\n",
       "      <td>Thomas Group</td>\n",
       "      <td>2024-10-21</td>\n",
       "      <td>41.66394</td>\n",
       "      <td>-83.55521</td>\n",
       "      <td>New_York</td>\n",
       "    </tr>\n",
       "    <tr>\n",
       "      <th>3</th>\n",
       "      <td>3</td>\n",
       "      <td>King, Garcia and Chang</td>\n",
       "      <td>2024-11-11</td>\n",
       "      <td>31.76212</td>\n",
       "      <td>-95.63079</td>\n",
       "      <td>Chicago</td>\n",
       "    </tr>\n",
       "    <tr>\n",
       "      <th>4</th>\n",
       "      <td>4</td>\n",
       "      <td>Alvarez-Weber</td>\n",
       "      <td>2024-11-01</td>\n",
       "      <td>36.20829</td>\n",
       "      <td>-115.98391</td>\n",
       "      <td>Los_Angeles</td>\n",
       "    </tr>\n",
       "    <tr>\n",
       "      <th>...</th>\n",
       "      <td>...</td>\n",
       "      <td>...</td>\n",
       "      <td>...</td>\n",
       "      <td>...</td>\n",
       "      <td>...</td>\n",
       "      <td>...</td>\n",
       "    </tr>\n",
       "    <tr>\n",
       "      <th>995</th>\n",
       "      <td>995</td>\n",
       "      <td>Allen-Santiago</td>\n",
       "      <td>2024-10-28</td>\n",
       "      <td>33.54428</td>\n",
       "      <td>-84.23381</td>\n",
       "      <td>New_York</td>\n",
       "    </tr>\n",
       "    <tr>\n",
       "      <th>996</th>\n",
       "      <td>996</td>\n",
       "      <td>Klein, Padilla and Gordon</td>\n",
       "      <td>2024-11-01</td>\n",
       "      <td>47.38093</td>\n",
       "      <td>-122.23484</td>\n",
       "      <td>Los_Angeles</td>\n",
       "    </tr>\n",
       "    <tr>\n",
       "      <th>997</th>\n",
       "      <td>997</td>\n",
       "      <td>Brown LLC</td>\n",
       "      <td>2024-11-18</td>\n",
       "      <td>41.50343</td>\n",
       "      <td>-74.01042</td>\n",
       "      <td>New_York</td>\n",
       "    </tr>\n",
       "    <tr>\n",
       "      <th>998</th>\n",
       "      <td>998</td>\n",
       "      <td>Hernandez, Peters and Mcclure</td>\n",
       "      <td>2024-11-08</td>\n",
       "      <td>40.67705</td>\n",
       "      <td>-73.89125</td>\n",
       "      <td>New_York</td>\n",
       "    </tr>\n",
       "    <tr>\n",
       "      <th>999</th>\n",
       "      <td>999</td>\n",
       "      <td>Reed-Williams</td>\n",
       "      <td>2024-11-17</td>\n",
       "      <td>41.55815</td>\n",
       "      <td>-73.0515</td>\n",
       "      <td>New_York</td>\n",
       "    </tr>\n",
       "  </tbody>\n",
       "</table>\n",
       "<p>1000 rows × 6 columns</p>\n",
       "</div>"
      ],
      "text/plain": [
       "      id                     point_name   date_open  latitude   longitude  \\\n",
       "0      0                 Reilly-Jenkins  2024-11-17  31.76212   -95.63079   \n",
       "1      1                   Gibson-Smith  2024-10-25  41.55815    -73.0515   \n",
       "2      2                   Thomas Group  2024-10-21  41.66394   -83.55521   \n",
       "3      3         King, Garcia and Chang  2024-11-11  31.76212   -95.63079   \n",
       "4      4                  Alvarez-Weber  2024-11-01  36.20829  -115.98391   \n",
       "..   ...                            ...         ...       ...         ...   \n",
       "995  995                 Allen-Santiago  2024-10-28  33.54428   -84.23381   \n",
       "996  996      Klein, Padilla and Gordon  2024-11-01  47.38093  -122.23484   \n",
       "997  997                      Brown LLC  2024-11-18  41.50343   -74.01042   \n",
       "998  998  Hernandez, Peters and Mcclure  2024-11-08  40.67705   -73.89125   \n",
       "999  999                  Reed-Williams  2024-11-17  41.55815    -73.0515   \n",
       "\n",
       "            city  \n",
       "0        Chicago  \n",
       "1       New_York  \n",
       "2       New_York  \n",
       "3        Chicago  \n",
       "4    Los_Angeles  \n",
       "..           ...  \n",
       "995     New_York  \n",
       "996  Los_Angeles  \n",
       "997     New_York  \n",
       "998     New_York  \n",
       "999     New_York  \n",
       "\n",
       "[1000 rows x 6 columns]"
      ]
     },
     "execution_count": 26,
     "metadata": {},
     "output_type": "execute_result"
    }
   ],
   "source": [
    "df_point_data = pd.DataFrame(point_data)\n",
    "df_point_data"
   ]
  },
  {
   "cell_type": "code",
   "execution_count": null,
   "id": "8af3a52c",
   "metadata": {},
   "outputs": [],
   "source": []
  },
  {
   "cell_type": "code",
   "execution_count": null,
   "id": "1aefd785",
   "metadata": {},
   "outputs": [],
   "source": []
  }
 ],
 "metadata": {
  "kernelspec": {
   "display_name": "Python 3",
   "language": "python",
   "name": "python3"
  },
  "language_info": {
   "codemirror_mode": {
    "name": "ipython",
    "version": 3
   },
   "file_extension": ".py",
   "mimetype": "text/x-python",
   "name": "python",
   "nbconvert_exporter": "python",
   "pygments_lexer": "ipython3",
   "version": "3.11.5"
  }
 },
 "nbformat": 4,
 "nbformat_minor": 5
}
