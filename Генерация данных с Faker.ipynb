{
 "cells": [
  {
   "cell_type": "markdown",
   "id": "25f2a94a",
   "metadata": {},
   "source": [
    "## Генерация данных с библиотекой Faker"
   ]
  },
  {
   "cell_type": "markdown",
   "id": "851e0567",
   "metadata": {},
   "source": [
    "Устанавливаем библиотеку:"
   ]
  },
  {
   "cell_type": "code",
   "execution_count": 2,
   "id": "12446ac2",
   "metadata": {},
   "outputs": [
    {
     "name": "stdout",
     "output_type": "stream",
     "text": [
      "Collecting faker\n",
      "  Obtaining dependency information for faker from https://files.pythonhosted.org/packages/c0/c3/0451555e7a9a233bc17f128cff7654ec60036d4ccbb8397dd949f28df176/Faker-33.0.0-py3-none-any.whl.metadata\n",
      "  Downloading Faker-33.0.0-py3-none-any.whl.metadata (15 kB)\n",
      "Requirement already satisfied: python-dateutil>=2.4 in c:\\users\\lebed\\anaconda3\\lib\\site-packages (from faker) (2.8.2)\n",
      "Requirement already satisfied: typing-extensions in c:\\users\\lebed\\anaconda3\\lib\\site-packages (from faker) (4.12.2)\n",
      "Requirement already satisfied: six>=1.5 in c:\\users\\lebed\\anaconda3\\lib\\site-packages (from python-dateutil>=2.4->faker) (1.16.0)\n",
      "Downloading Faker-33.0.0-py3-none-any.whl (1.9 MB)\n",
      "   ---------------------------------------- 1.9/1.9 MB 2.1 MB/s eta 0:00:00\n",
      "Installing collected packages: faker\n",
      "Successfully installed faker-33.0.0\n",
      "Note: you may need to restart the kernel to use updated packages.\n"
     ]
    }
   ],
   "source": [
    "pip install faker"
   ]
  },
  {
   "cell_type": "code",
   "execution_count": 4,
   "id": "f0597407",
   "metadata": {},
   "outputs": [],
   "source": [
    "# Так как мы хотим сгенерировать датасет, то в этом деле нам ещё панадобится pandas\n",
    "import pandas as pd\n",
    "from faker import Faker\n",
    "# defaultdict это объект словаря в python, для которого можно задать тип его значений по умолчанию\n",
    "from collections import defaultdict"
   ]
  },
  {
   "cell_type": "markdown",
   "id": "6691ce7d",
   "metadata": {},
   "source": [
    "Попробуем сгенерить таблицу в 1000 строк с данными о различных тороговых точках"
   ]
  },
  {
   "cell_type": "code",
   "execution_count": null,
   "id": "f6c85c97",
   "metadata": {},
   "outputs": [],
   "source": [
    "fake = Faker() # Создаём объект fake для генерации данных\n",
    "point_data = defaultdict(list) # подготавливаем словарь со списками по умолчанию для сбора таблицы"
   ]
  },
  {
   "cell_type": "markdown",
   "id": "148ed920",
   "metadata": {},
   "source": [
    "### Примеры генерации, используемые в этом кейсе"
   ]
  },
  {
   "cell_type": "code",
   "execution_count": 11,
   "id": "8a213382",
   "metadata": {},
   "outputs": [
    {
     "data": {
      "text/plain": [
       "'Blankenship, Hansen and Conway'"
      ]
     },
     "execution_count": 11,
     "metadata": {},
     "output_type": "execute_result"
    }
   ],
   "source": [
    "fake.company() # Генерим название компании"
   ]
  },
  {
   "cell_type": "code",
   "execution_count": 12,
   "id": "276d0756",
   "metadata": {},
   "outputs": [
    {
     "data": {
      "text/plain": [
       "datetime.date(2024, 11, 3)"
      ]
     },
     "execution_count": 12,
     "metadata": {},
     "output_type": "execute_result"
    }
   ],
   "source": [
    "fake.past_date() # Генерим дату из прошлого"
   ]
  },
  {
   "cell_type": "code",
   "execution_count": 15,
   "id": "f1d44bca",
   "metadata": {},
   "outputs": [
    {
     "data": {
      "text/plain": [
       "('29.65163', '-82.32483', 'Gainesville', 'US', 'America/New_York')"
      ]
     },
     "execution_count": 15,
     "metadata": {},
     "output_type": "execute_result"
    }
   ],
   "source": [
    "fake.local_latlng() # Генерим геоточку в виде кортежа"
   ]
  },
  {
   "cell_type": "markdown",
   "id": "a0755081",
   "metadata": {},
   "source": [
    "Каждый из методов faker, использованных здесь можно найти в документации: https://faker.readthedocs.io/en/master/"
   ]
  },
  {
   "cell_type": "markdown",
   "id": "300d2b26",
   "metadata": {},
   "source": [
    "### Генерим датасет"
   ]
  },
  {
   "cell_type": "code",
   "execution_count": 17,
   "id": "a7249fe9",
   "metadata": {},
   "outputs": [],
   "source": [
    "for i in range(1000):\n",
    "    point_data[\"id\"].append(i)\n",
    "    point_data['point_name'].append(fake.company())\n",
    "    point_data['date_open'].append(fake.past_date())\n",
    "    geo = fake.local_latlng()\n",
    "    point_data['latitude'].append(geo[0])\n",
    "    point_data['longitude'].append(geo[1])\n",
    "    point_data['city'].append(geo[-1].split('/')[1])"
   ]
  },
  {
   "cell_type": "code",
   "execution_count": 18,
   "id": "e0d85b88",
   "metadata": {},
   "outputs": [
    {
     "data": {
      "text/html": [
       "<div>\n",
       "<style scoped>\n",
       "    .dataframe tbody tr th:only-of-type {\n",
       "        vertical-align: middle;\n",
       "    }\n",
       "\n",
       "    .dataframe tbody tr th {\n",
       "        vertical-align: top;\n",
       "    }\n",
       "\n",
       "    .dataframe thead th {\n",
       "        text-align: right;\n",
       "    }\n",
       "</style>\n",
       "<table border=\"1\" class=\"dataframe\">\n",
       "  <thead>\n",
       "    <tr style=\"text-align: right;\">\n",
       "      <th></th>\n",
       "      <th>id</th>\n",
       "      <th>point_name</th>\n",
       "      <th>date_open</th>\n",
       "      <th>latitude</th>\n",
       "      <th>longitude</th>\n",
       "      <th>city</th>\n",
       "    </tr>\n",
       "  </thead>\n",
       "  <tbody>\n",
       "    <tr>\n",
       "      <th>0</th>\n",
       "      <td>0</td>\n",
       "      <td>Roman, Mitchell and Kelly</td>\n",
       "      <td>2024-11-06</td>\n",
       "      <td>41.84364</td>\n",
       "      <td>-87.71255</td>\n",
       "      <td>Chicago</td>\n",
       "    </tr>\n",
       "    <tr>\n",
       "      <th>1</th>\n",
       "      <td>1</td>\n",
       "      <td>Chang, Castaneda and Jackson</td>\n",
       "      <td>2024-11-06</td>\n",
       "      <td>38.91817</td>\n",
       "      <td>-78.19444</td>\n",
       "      <td>New_York</td>\n",
       "    </tr>\n",
       "    <tr>\n",
       "      <th>2</th>\n",
       "      <td>2</td>\n",
       "      <td>Martinez Inc</td>\n",
       "      <td>2024-11-03</td>\n",
       "      <td>41.48199</td>\n",
       "      <td>-81.79819</td>\n",
       "      <td>New_York</td>\n",
       "    </tr>\n",
       "    <tr>\n",
       "      <th>3</th>\n",
       "      <td>3</td>\n",
       "      <td>Carey, Moore and West</td>\n",
       "      <td>2024-11-07</td>\n",
       "      <td>41.54566</td>\n",
       "      <td>-71.29144</td>\n",
       "      <td>New_York</td>\n",
       "    </tr>\n",
       "    <tr>\n",
       "      <th>4</th>\n",
       "      <td>4</td>\n",
       "      <td>Saunders and Sons</td>\n",
       "      <td>2024-11-09</td>\n",
       "      <td>42.58342</td>\n",
       "      <td>-71.8023</td>\n",
       "      <td>New_York</td>\n",
       "    </tr>\n",
       "    <tr>\n",
       "      <th>...</th>\n",
       "      <td>...</td>\n",
       "      <td>...</td>\n",
       "      <td>...</td>\n",
       "      <td>...</td>\n",
       "      <td>...</td>\n",
       "      <td>...</td>\n",
       "    </tr>\n",
       "    <tr>\n",
       "      <th>1995</th>\n",
       "      <td>995</td>\n",
       "      <td>Walker-Horne</td>\n",
       "      <td>2024-11-14</td>\n",
       "      <td>37.73604</td>\n",
       "      <td>-120.93549</td>\n",
       "      <td>Los_Angeles</td>\n",
       "    </tr>\n",
       "    <tr>\n",
       "      <th>1996</th>\n",
       "      <td>996</td>\n",
       "      <td>Hunter-Freeman</td>\n",
       "      <td>2024-10-31</td>\n",
       "      <td>47.76232</td>\n",
       "      <td>-122.2054</td>\n",
       "      <td>Los_Angeles</td>\n",
       "    </tr>\n",
       "    <tr>\n",
       "      <th>1997</th>\n",
       "      <td>997</td>\n",
       "      <td>Mcconnell, Caldwell and Kelly</td>\n",
       "      <td>2024-11-18</td>\n",
       "      <td>33.93113</td>\n",
       "      <td>-117.54866</td>\n",
       "      <td>Los_Angeles</td>\n",
       "    </tr>\n",
       "    <tr>\n",
       "      <th>1998</th>\n",
       "      <td>998</td>\n",
       "      <td>Collins-Bryant</td>\n",
       "      <td>2024-11-13</td>\n",
       "      <td>40.68066</td>\n",
       "      <td>-73.47429</td>\n",
       "      <td>New_York</td>\n",
       "    </tr>\n",
       "    <tr>\n",
       "      <th>1999</th>\n",
       "      <td>999</td>\n",
       "      <td>Martin Inc</td>\n",
       "      <td>2024-11-04</td>\n",
       "      <td>39.00622</td>\n",
       "      <td>-77.4286</td>\n",
       "      <td>New_York</td>\n",
       "    </tr>\n",
       "  </tbody>\n",
       "</table>\n",
       "<p>2000 rows × 6 columns</p>\n",
       "</div>"
      ],
      "text/plain": [
       "       id                     point_name   date_open  latitude   longitude  \\\n",
       "0       0      Roman, Mitchell and Kelly  2024-11-06  41.84364   -87.71255   \n",
       "1       1   Chang, Castaneda and Jackson  2024-11-06  38.91817   -78.19444   \n",
       "2       2                   Martinez Inc  2024-11-03  41.48199   -81.79819   \n",
       "3       3          Carey, Moore and West  2024-11-07  41.54566   -71.29144   \n",
       "4       4              Saunders and Sons  2024-11-09  42.58342    -71.8023   \n",
       "...   ...                            ...         ...       ...         ...   \n",
       "1995  995                   Walker-Horne  2024-11-14  37.73604  -120.93549   \n",
       "1996  996                 Hunter-Freeman  2024-10-31  47.76232   -122.2054   \n",
       "1997  997  Mcconnell, Caldwell and Kelly  2024-11-18  33.93113  -117.54866   \n",
       "1998  998                 Collins-Bryant  2024-11-13  40.68066   -73.47429   \n",
       "1999  999                     Martin Inc  2024-11-04  39.00622    -77.4286   \n",
       "\n",
       "             city  \n",
       "0         Chicago  \n",
       "1        New_York  \n",
       "2        New_York  \n",
       "3        New_York  \n",
       "4        New_York  \n",
       "...           ...  \n",
       "1995  Los_Angeles  \n",
       "1996  Los_Angeles  \n",
       "1997  Los_Angeles  \n",
       "1998     New_York  \n",
       "1999     New_York  \n",
       "\n",
       "[2000 rows x 6 columns]"
      ]
     },
     "execution_count": 18,
     "metadata": {},
     "output_type": "execute_result"
    }
   ],
   "source": [
    "df_point_data = pd.DataFrame(point_data)\n",
    "df_point_data"
   ]
  },
  {
   "cell_type": "code",
   "execution_count": null,
   "id": "8af3a52c",
   "metadata": {},
   "outputs": [],
   "source": []
  }
 ],
 "metadata": {
  "kernelspec": {
   "display_name": "Python 3",
   "language": "python",
   "name": "python3"
  },
  "language_info": {
   "codemirror_mode": {
    "name": "ipython",
    "version": 3
   },
   "file_extension": ".py",
   "mimetype": "text/x-python",
   "name": "python",
   "nbconvert_exporter": "python",
   "pygments_lexer": "ipython3",
   "version": "3.11.5"
  }
 },
 "nbformat": 4,
 "nbformat_minor": 5
}
